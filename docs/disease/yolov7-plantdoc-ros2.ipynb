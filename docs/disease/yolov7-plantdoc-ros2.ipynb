{
 "cells": [
  {
   "attachments": {},
   "cell_type": "markdown",
   "metadata": {},
   "source": [
    "# Deploy disease detection model to ROS2"
   ]
  },
  {
   "attachments": {},
   "cell_type": "markdown",
   "metadata": {},
   "source": [
    "In the last section, we trained and evaluated YOLOv7 model on the PlantDoc dataset. Next, we will deploy the trained disease detection model to Robot Operating System 2 (ROS2)"
   ]
  },
  {
   "attachments": {},
   "cell_type": "markdown",
   "metadata": {},
   "source": [
    "## So What is ROS2"
   ]
  },
  {
   "attachments": {},
   "cell_type": "markdown",
   "metadata": {},
   "source": [
    "Robot Operating System (ROS) is a set of open-source software libraries and tools for building robotic systems. It provides a common framework for creating, programming, and deploying robotic systems in various domains, including industrial, research, and personal use.\n",
    "\n",
    "ROS2 is the second major version of ROS. It was designed to address some of the limitations of the original ROS and to improve performance, scalability, and security. Some of the main features of ROS2 include:\n",
    "\n",
    "- Real-time support: ROS2 supports real-time computing with the use of the DDS (Data Distribution Service) middleware, which allows for low-latency communication between ROS2 nodes.\n",
    "- Improved scalability: ROS2 allows for distributed systems, with multiple computers communicating over a network. This allows for better scalability and the ability to handle more complex robotic systems.\n",
    "- Better security: ROS2 uses DDS security features, such as authentication and encryption, to provide better security for robotic systems.\n",
    "- Improved support for multiple languages: ROS2 supports multiple languages, including C++, Python, and C#, which allow the developers to use the language they are most comfortable with.\n",
    "- Robustness: ROS2 improve robustness of the system, as well as resilience to communication failures and other unexpected events.\n",
    "\n",
    "There are several core concepts that are fundamental to understanding how ROS2 works:\n",
    "\n",
    "1. Nodes: In ROS2, nodes are the basic units of computation. A node represents a process that runs on a computer and communicates with other nodes. Nodes can be written in any programming language that is supported by ROS2, such as C++, Python, or C#. Each node can provide or consume one or more services or publish and subscribe to one or more topics.\n",
    "2. Topics: Topics are the means by which nodes can exchange messages. In ROS2, a topic is a named channel to which nodes can publish messages and to which other nodes can subscribe to receive messages. Topics are used to send sensor data, control commands, and other types of information between nodes.\n",
    "3. Services: Services provide a mechanism for nodes to request and receive a specific piece of information or to perform a specific action. Services are synchronous and request-response based, which means that a client node sends a request to a service and waits for a response. Services in ROS2 are defined by a pair of request and response message types.\n",
    "4. Actions: Actions are similar to services but are designed for more complex tasks with feedback and goal status. They can be used to control the execution of long-lasting tasks, such as navigation or grasping.\n"
   ]
  },
  {
   "attachments": {},
   "cell_type": "markdown",
   "metadata": {},
   "source": [
    "To deploy the trained disease detection YOLOv7 model to ROS2, we need take the following steps:\n",
    "\n",
    "- Install ROS2 and the required dependencies. \n",
    "- Write a ROS2 node to simulate a camera to capture the plant disease images, and use the ROS2 API to publish the images as s message on a ROS2 topic.\n",
    "- Write a ROS2 node to subscribe to the images topic and perform plant disease detection on the received images."
   ]
  },
  {
   "cell_type": "code",
   "execution_count": 2,
   "metadata": {},
   "outputs": [
    {
     "data": {
      "text/html": [
       "\n",
       "        <iframe\n",
       "            width=\"560\"\n",
       "            height=\"416\"\n",
       "            src=\"https://youtube.com/shorts/ty6OHxJW4tk\"\n",
       "            frameborder=\"0\"\n",
       "            allowfullscreen\n",
       "            \n",
       "        ></iframe>\n",
       "        "
      ],
      "text/plain": [
       "<IPython.lib.display.IFrame at 0x1b3afd7fe90>"
      ]
     },
     "execution_count": 2,
     "metadata": {},
     "output_type": "execute_result"
    }
   ],
   "source": [
    "from IPython.display import IFrame\n",
    "\n",
    "IFrame(src=\"https://youtube.com/shorts/ty6OHxJW4tk?feature=share\", width=\"560\", height=\"416\")"
   ]
  },
  {
   "cell_type": "code",
   "execution_count": null,
   "metadata": {},
   "outputs": [],
   "source": []
  }
 ],
 "metadata": {
  "kernelspec": {
   "display_name": "mkdocs",
   "language": "python",
   "name": "python3"
  },
  "language_info": {
   "codemirror_mode": {
    "name": "ipython",
    "version": 3
   },
   "file_extension": ".py",
   "mimetype": "text/x-python",
   "name": "python",
   "nbconvert_exporter": "python",
   "pygments_lexer": "ipython3",
   "version": "3.11.0"
  },
  "orig_nbformat": 4,
  "vscode": {
   "interpreter": {
    "hash": "b49f19725d2c9b79544a913ef783648517ab69d5bcec7c7f412a70f1dbc8ab27"
   }
  }
 },
 "nbformat": 4,
 "nbformat_minor": 2
}
